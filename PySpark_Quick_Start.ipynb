{
  "nbformat": 4,
  "nbformat_minor": 0,
  "metadata": {
    "colab": {
      "provenance": [],
      "authorship_tag": "ABX9TyPDhQDb15RCfdpH5HYRVkKI",
      "include_colab_link": true
    },
    "kernelspec": {
      "name": "python3",
      "display_name": "Python 3"
    },
    "language_info": {
      "name": "python"
    }
  },
  "cells": [
    {
      "cell_type": "markdown",
      "metadata": {
        "id": "view-in-github",
        "colab_type": "text"
      },
      "source": [
        "<a href=\"https://colab.research.google.com/github/Fabricio-emiliano/PySpark-no-Google-Collab/blob/main/PySpark_Quick_Start.ipynb\" target=\"_parent\"><img src=\"https://colab.research.google.com/assets/colab-badge.svg\" alt=\"Open In Colab\"/></a>"
      ]
    },
    {
      "cell_type": "code",
      "execution_count": 5,
      "metadata": {
        "id": "OYshEn7vYc7M"
      },
      "outputs": [],
      "source": [
        "\n",
        "# instalação do pyspark no google collab:\n",
        "# ps só roda uma vez\n",
        "\n",
        "# Instalar Java, Spark e Findspark\n",
        "# !apt-get install openjdk-8-jdk-headless -qq > /dev/null\n",
        "# !wget -q https://archive.apache.org/dist/spark/spark-3.0.0/spark-3.0.0-bin-hadoop3.2.tgz\n",
        "# !tar xf spark-3.0.0-bin-hadoop3.2.tgz\n",
        "# !pip install -q findspark\n",
        "\n",
        "# # Configurar variáveis de ambiente\n",
        "# import os\n",
        "# os.environ[\"JAVA_HOME\"] = \"/usr/lib/jvm/java-8-openjdk-amd64\"\n",
        "# os.environ[\"SPARK_HOME\"] = \"/content/spark-3.0.0-bin-hadoop3.2\"\n",
        "\n",
        "# import findspark\n",
        "# findspark.init()\n",
        "\n",
        "# # Iniciar uma sessão Spark\n",
        "from pyspark.sql import SparkSession\n",
        "spark = SparkSession.builder.appName(\"QuickStartPySpark\").master(\"local[*]\").getOrCreate()\n",
        "\n"
      ]
    },
    {
      "cell_type": "code",
      "source": [
        "# Pacotes\n",
        "from datetime import datetime, date\n",
        "import pandas as pd\n",
        "from pyspark.sql import Row\n",
        "from pyspark.sql.window import Window\n",
        "from pyspark.sql.functions import col,lag\n",
        "from pyspark.sql import functions as F\n",
        "import requests\n",
        "import plotnine as pn\n"
      ],
      "metadata": {
        "id": "lhA8_ed_eM_h"
      },
      "execution_count": 13,
      "outputs": []
    },
    {
      "cell_type": "code",
      "source": [
        "url = \"https://olinda.bcb.gov.br/olinda/servico/Pix_DadosAbertos/versao/v1/odata/ChavesPix(Data=@Data)?@Data='2024-01-01'&$format=json\"\n",
        "\n",
        "response = requests.get(url)\n"
      ],
      "metadata": {
        "id": "SQDO0_4feM7o"
      },
      "execution_count": 7,
      "outputs": []
    },
    {
      "cell_type": "code",
      "source": [
        "dados_json= response.json()['value']\n",
        "df_spark = spark.createDataFrame(dados_json)\n",
        "\n",
        "df_spark = df_spark.where(df_spark.NaturezaUsuario=='PF')\n",
        "\n",
        "df_spark.orderBy([\"ISPB\", \"Data\",'qtdChaves'], ascending=[False, False,False]).show()\n",
        "# Dá para perceber que há uma variação de uma data para outra, podemos realizar uma análise de elasticidade cruzada (canibalização)\n",
        "# para entender quando um usuário sai de um banco, para onde ele vai em seguida?\n",
        "\n",
        "# a ideia é entender a variação. posso rodar um código de analise de correlação direto, mas pode haver algum erro,\n",
        "# já que pode haver uma tendencia de crescimento total de chaves pix."
      ],
      "metadata": {
        "colab": {
          "base_uri": "https://localhost:8080/"
        },
        "id": "0wAqMv3YeM14",
        "outputId": "0e7654f6-f711-41fd-c63a-aaf0f5230c3d"
      },
      "execution_count": 19,
      "outputs": [
        {
          "output_type": "stream",
          "name": "stdout",
          "text": [
            "+----------+--------+---------------+--------------------+---------+---------+\n",
            "|      Data|    ISPB|NaturezaUsuario|                Nome|TipoChave|qtdChaves|\n",
            "+----------+--------+---------------+--------------------+---------+---------+\n",
            "|2024-10-31|97489280|             PF|COOP SICREDI INTE...|Aleatória|     2973|\n",
            "|2024-10-31|97489280|             PF|COOP SICREDI INTE...|  Celular|     1801|\n",
            "|2024-10-31|97489280|             PF|COOP SICREDI INTE...|      CPF|     1645|\n",
            "|2024-10-31|97489280|             PF|COOP SICREDI INTE...|   e-mail|     1220|\n",
            "|2024-09-30|97489280|             PF|COOP SICREDI INTE...|Aleatória|     2860|\n",
            "|2024-09-30|97489280|             PF|COOP SICREDI INTE...|  Celular|     1758|\n",
            "|2024-09-30|97489280|             PF|COOP SICREDI INTE...|      CPF|     1639|\n",
            "|2024-09-30|97489280|             PF|COOP SICREDI INTE...|   e-mail|     1185|\n",
            "|2024-08-31|97489280|             PF|COOP SICREDI INTE...|Aleatória|     2714|\n",
            "|2024-08-31|97489280|             PF|COOP SICREDI INTE...|  Celular|     1708|\n",
            "|2024-08-31|97489280|             PF|COOP SICREDI INTE...|      CPF|     1615|\n",
            "|2024-08-31|97489280|             PF|COOP SICREDI INTE...|   e-mail|     1156|\n",
            "|2024-07-31|97489280|             PF|COOP SICREDI INTE...|Aleatória|     2593|\n",
            "|2024-07-31|97489280|             PF|COOP SICREDI INTE...|  Celular|     1674|\n",
            "|2024-07-31|97489280|             PF|COOP SICREDI INTE...|      CPF|     1586|\n",
            "|2024-07-31|97489280|             PF|COOP SICREDI INTE...|   e-mail|     1108|\n",
            "|2024-06-30|97489280|             PF|COOP SICREDI INTE...|Aleatória|     2428|\n",
            "|2024-06-30|97489280|             PF|COOP SICREDI INTE...|  Celular|     1645|\n",
            "|2024-06-30|97489280|             PF|COOP SICREDI INTE...|      CPF|     1553|\n",
            "|2024-06-30|97489280|             PF|COOP SICREDI INTE...|   e-mail|     1059|\n",
            "+----------+--------+---------------+--------------------+---------+---------+\n",
            "only showing top 20 rows\n",
            "\n"
          ]
        }
      ]
    },
    {
      "cell_type": "code",
      "source": [
        "variacao_chaves = df_spark.groupBy('Data').sum('qtdChaves').withColumnRenamed(\"sum(qtdChaves)\", \"total_chaves\")\n",
        "\n"
      ],
      "metadata": {
        "id": "Tyq7zdGNwYFF"
      },
      "execution_count": 20,
      "outputs": []
    },
    {
      "cell_type": "code",
      "source": [
        "# Definir a janela\n",
        "window_spec = Window.orderBy(\"Data\")\n",
        "\n",
        "# Calcular a diferença entre a quantidade atual e a quantidade da linha anterior\n",
        "variacao_chaves = variacao_chaves.withColumn(\"total_diff\", ((col(\"total_chaves\") - lag(\"total_chaves\").over(window_spec))/lag(\"total_chaves\").over(window_spec)))\n",
        "\n",
        "# tem que dar um cumsum\n",
        "variacao_chaves = variacao_chaves.withColumn(\"total_diff\", ((col(\"total_chaves\") - lag(\"total_chaves\").over(window_spec))/lag(\"total_chaves\").over(window_spec)))\n",
        "\n",
        "variacao_chaves = variacao_chaves.withColumn(\"total_diff_cumsum\", F.sum('total_diff').over(window_spec))\n",
        "\n",
        "\n",
        "variacao_chaves = variacao_chaves.withColumn(\"diferenca\", (col(\"total_chaves\") - lag(\"total_chaves\").over(window_spec)))\n",
        "\n",
        "variacao_chaves = variacao_chaves.na.fill(0)\n",
        "\n",
        "variacao_chaves = variacao_chaves.withColumn(\"diferenca\", col(\"total_chaves\")*(1-col('total_diff_cumsum')) )\n",
        "\n",
        "# Exibir os dados com a diferença\n",
        "variacao_chaves.show()\n",
        "\n",
        "# Estamos interessados na coluna total_diff_cumsum. Ela que vai retirar o fator de crescimento das chaves pix\n"
      ],
      "metadata": {
        "colab": {
          "base_uri": "https://localhost:8080/"
        },
        "id": "XEIDzU904Pfs",
        "outputId": "5bf94ba5-6646-4e6e-e8a2-343b986a6ab3"
      },
      "execution_count": 21,
      "outputs": [
        {
          "output_type": "stream",
          "name": "stdout",
          "text": [
            "+----------+------------+--------------------+--------------------+-------------------+\n",
            "|      Data|total_chaves|          total_diff|   total_diff_cumsum|          diferenca|\n",
            "+----------+------------+--------------------+--------------------+-------------------+\n",
            "|2024-01-31|   676707499|                 0.0|                 0.0|       6.76707499E8|\n",
            "|2024-02-29|   687306013| 0.01566188348091588| 0.01566188348091588|6.765415063086611E8|\n",
            "|2024-03-31|   696952729|0.014035547219925166| 0.02969743070084105|6.762550236287605E8|\n",
            "|2024-04-30|   705791757|0.012682392409428388|0.042379823110269436|6.758804271856537E8|\n",
            "|2024-05-31|   716953230| 0.01581411640090889| 0.05819393951117832|6.752308971010361E8|\n",
            "|2024-06-30|   728396899| 0.01596152792281862| 0.07415546743399694|6.743822864771812E8|\n",
            "|2024-07-31|   740588717| 0.01673787740823427| 0.09089334484223122|6.732741313594534E8|\n",
            "|2024-08-31|   750398340| 0.01324570949411318| 0.10413905433634439|6.722525664968374E8|\n",
            "|2024-09-30|   760539978| 0.01351500591006105| 0.11765406024640544|6.710593616085881E8|\n",
            "|2024-10-31|   766354219|0.007644885434280222| 0.12529894568068567|6.703308433413547E8|\n",
            "+----------+------------+--------------------+--------------------+-------------------+\n",
            "\n"
          ]
        }
      ]
    }
  ]
}